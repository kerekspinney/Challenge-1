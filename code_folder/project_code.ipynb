{
 "cells": [
  {
   "cell_type": "code",
   "execution_count": 1,
   "metadata": {},
   "outputs": [
    {
     "data": {
      "text/html": [
       "<div>\n",
       "<style scoped>\n",
       "    .dataframe tbody tr th:only-of-type {\n",
       "        vertical-align: middle;\n",
       "    }\n",
       "\n",
       "    .dataframe tbody tr th {\n",
       "        vertical-align: top;\n",
       "    }\n",
       "\n",
       "    .dataframe thead th {\n",
       "        text-align: right;\n",
       "    }\n",
       "</style>\n",
       "<table border=\"1\" class=\"dataframe\">\n",
       "  <thead>\n",
       "    <tr style=\"text-align: right;\">\n",
       "      <th></th>\n",
       "      <th>PUF_ID</th>\n",
       "      <th>sample</th>\n",
       "      <th>fpl</th>\n",
       "      <th>SWB_1</th>\n",
       "      <th>SWB_2</th>\n",
       "      <th>SWB_3</th>\n",
       "      <th>FWBscore</th>\n",
       "      <th>FWB1_1</th>\n",
       "      <th>FWB1_2</th>\n",
       "      <th>FWB1_3</th>\n",
       "      <th>...</th>\n",
       "      <th>PPMSACAT</th>\n",
       "      <th>PPREG4</th>\n",
       "      <th>PPREG9</th>\n",
       "      <th>PPT01</th>\n",
       "      <th>PPT25</th>\n",
       "      <th>PPT612</th>\n",
       "      <th>PPT1317</th>\n",
       "      <th>PPT18OV</th>\n",
       "      <th>PCTLT200FPL</th>\n",
       "      <th>finalwt</th>\n",
       "    </tr>\n",
       "  </thead>\n",
       "  <tbody>\n",
       "    <tr>\n",
       "      <th>0</th>\n",
       "      <td>10350</td>\n",
       "      <td>2</td>\n",
       "      <td>3</td>\n",
       "      <td>5</td>\n",
       "      <td>5</td>\n",
       "      <td>6</td>\n",
       "      <td>55</td>\n",
       "      <td>3</td>\n",
       "      <td>3</td>\n",
       "      <td>3</td>\n",
       "      <td>...</td>\n",
       "      <td>1</td>\n",
       "      <td>4</td>\n",
       "      <td>8</td>\n",
       "      <td>0</td>\n",
       "      <td>0</td>\n",
       "      <td>0</td>\n",
       "      <td>0</td>\n",
       "      <td>1</td>\n",
       "      <td>0</td>\n",
       "      <td>0.367292</td>\n",
       "    </tr>\n",
       "    <tr>\n",
       "      <th>1</th>\n",
       "      <td>7740</td>\n",
       "      <td>1</td>\n",
       "      <td>3</td>\n",
       "      <td>6</td>\n",
       "      <td>6</td>\n",
       "      <td>6</td>\n",
       "      <td>51</td>\n",
       "      <td>2</td>\n",
       "      <td>2</td>\n",
       "      <td>3</td>\n",
       "      <td>...</td>\n",
       "      <td>1</td>\n",
       "      <td>2</td>\n",
       "      <td>3</td>\n",
       "      <td>0</td>\n",
       "      <td>0</td>\n",
       "      <td>0</td>\n",
       "      <td>0</td>\n",
       "      <td>2</td>\n",
       "      <td>0</td>\n",
       "      <td>1.327561</td>\n",
       "    </tr>\n",
       "    <tr>\n",
       "      <th>2</th>\n",
       "      <td>13699</td>\n",
       "      <td>1</td>\n",
       "      <td>3</td>\n",
       "      <td>4</td>\n",
       "      <td>3</td>\n",
       "      <td>4</td>\n",
       "      <td>49</td>\n",
       "      <td>3</td>\n",
       "      <td>3</td>\n",
       "      <td>3</td>\n",
       "      <td>...</td>\n",
       "      <td>1</td>\n",
       "      <td>4</td>\n",
       "      <td>9</td>\n",
       "      <td>0</td>\n",
       "      <td>0</td>\n",
       "      <td>0</td>\n",
       "      <td>1</td>\n",
       "      <td>2</td>\n",
       "      <td>1</td>\n",
       "      <td>0.835156</td>\n",
       "    </tr>\n",
       "    <tr>\n",
       "      <th>3</th>\n",
       "      <td>7267</td>\n",
       "      <td>1</td>\n",
       "      <td>3</td>\n",
       "      <td>6</td>\n",
       "      <td>6</td>\n",
       "      <td>6</td>\n",
       "      <td>49</td>\n",
       "      <td>3</td>\n",
       "      <td>3</td>\n",
       "      <td>3</td>\n",
       "      <td>...</td>\n",
       "      <td>1</td>\n",
       "      <td>3</td>\n",
       "      <td>7</td>\n",
       "      <td>0</td>\n",
       "      <td>0</td>\n",
       "      <td>0</td>\n",
       "      <td>0</td>\n",
       "      <td>1</td>\n",
       "      <td>0</td>\n",
       "      <td>1.410871</td>\n",
       "    </tr>\n",
       "    <tr>\n",
       "      <th>4</th>\n",
       "      <td>7375</td>\n",
       "      <td>1</td>\n",
       "      <td>3</td>\n",
       "      <td>4</td>\n",
       "      <td>4</td>\n",
       "      <td>4</td>\n",
       "      <td>49</td>\n",
       "      <td>3</td>\n",
       "      <td>3</td>\n",
       "      <td>3</td>\n",
       "      <td>...</td>\n",
       "      <td>1</td>\n",
       "      <td>2</td>\n",
       "      <td>4</td>\n",
       "      <td>0</td>\n",
       "      <td>0</td>\n",
       "      <td>1</td>\n",
       "      <td>0</td>\n",
       "      <td>4</td>\n",
       "      <td>1</td>\n",
       "      <td>4.260668</td>\n",
       "    </tr>\n",
       "  </tbody>\n",
       "</table>\n",
       "<p>5 rows × 217 columns</p>\n",
       "</div>"
      ],
      "text/plain": [
       "   PUF_ID  sample  fpl  SWB_1  SWB_2  SWB_3  FWBscore  FWB1_1  FWB1_2  FWB1_3  \\\n",
       "0   10350       2    3      5      5      6        55       3       3       3   \n",
       "1    7740       1    3      6      6      6        51       2       2       3   \n",
       "2   13699       1    3      4      3      4        49       3       3       3   \n",
       "3    7267       1    3      6      6      6        49       3       3       3   \n",
       "4    7375       1    3      4      4      4        49       3       3       3   \n",
       "\n",
       "   ...  PPMSACAT  PPREG4  PPREG9  PPT01  PPT25  PPT612  PPT1317  PPT18OV  \\\n",
       "0  ...         1       4       8      0      0       0        0        1   \n",
       "1  ...         1       2       3      0      0       0        0        2   \n",
       "2  ...         1       4       9      0      0       0        1        2   \n",
       "3  ...         1       3       7      0      0       0        0        1   \n",
       "4  ...         1       2       4      0      0       1        0        4   \n",
       "\n",
       "   PCTLT200FPL   finalwt  \n",
       "0            0  0.367292  \n",
       "1            0  1.327561  \n",
       "2            1  0.835156  \n",
       "3            0  1.410871  \n",
       "4            1  4.260668  \n",
       "\n",
       "[5 rows x 217 columns]"
      ]
     },
     "execution_count": 1,
     "metadata": {},
     "output_type": "execute_result"
    }
   ],
   "source": [
    "#Project_1 Team 3\n",
    "\n",
    "#Step 1: Import necessary components.\n",
    "import pandas as pd\n",
    "import matplotlib.pyplot as plt\n",
    "import numpy as np\n",
    "\n",
    "#Step 2: Importing the data. \n",
    "data_file = pd.read_csv('../Resources/NFWBS_PUF_2016_data.csv')\n",
    "data_file.head()\n"
   ]
  },
  {
   "cell_type": "code",
   "execution_count": 2,
   "metadata": {},
   "outputs": [
    {
     "data": {
      "text/plain": [
       "(6394, 217)"
      ]
     },
     "execution_count": 2,
     "metadata": {},
     "output_type": "execute_result"
    }
   ],
   "source": [
    "#Step 3: Use the shape function to see how many columns and rows there are.\n",
    "data_file.shape"
   ]
  },
  {
   "cell_type": "code",
   "execution_count": 3,
   "metadata": {},
   "outputs": [
    {
     "data": {
      "text/plain": [
       "Index(['PUF_ID', 'sample', 'fpl', 'SWB_1', 'SWB_2', 'SWB_3', 'FWBscore',\n",
       "       'FWB1_1', 'FWB1_2', 'FWB1_3',\n",
       "       ...\n",
       "       'PPMSACAT', 'PPREG4', 'PPREG9', 'PPT01', 'PPT25', 'PPT612', 'PPT1317',\n",
       "       'PPT18OV', 'PCTLT200FPL', 'finalwt'],\n",
       "      dtype='object', length=217)"
      ]
     },
     "execution_count": 3,
     "metadata": {},
     "output_type": "execute_result"
    }
   ],
   "source": [
    "#Step 4: Find the column names.\n",
    "data_file.columns\n",
    "\n",
    "\n",
    "#Findings: there are way too many columns for it to display all of the column names."
   ]
  },
  {
   "cell_type": "code",
   "execution_count": 4,
   "metadata": {},
   "outputs": [
    {
     "data": {
      "text/plain": [
       "PUF_ID         6394\n",
       "sample         6394\n",
       "fpl            6394\n",
       "SWB_1          6394\n",
       "SWB_2          6394\n",
       "               ... \n",
       "PPT612         6394\n",
       "PPT1317        6394\n",
       "PPT18OV        6394\n",
       "PCTLT200FPL    6394\n",
       "finalwt        6394\n",
       "Length: 217, dtype: int64"
      ]
     },
     "execution_count": 4,
     "metadata": {},
     "output_type": "execute_result"
    }
   ],
   "source": [
    "#Step 5: See how many data points are in each column. \n",
    "data_file.count()\n"
   ]
  },
  {
   "cell_type": "code",
   "execution_count": 5,
   "metadata": {},
   "outputs": [
    {
     "data": {
      "text/plain": [
       "PUF_ID         0\n",
       "sample         0\n",
       "fpl            0\n",
       "SWB_1          0\n",
       "SWB_2          0\n",
       "              ..\n",
       "PPT612         0\n",
       "PPT1317        0\n",
       "PPT18OV        0\n",
       "PCTLT200FPL    0\n",
       "finalwt        0\n",
       "Length: 217, dtype: int64"
      ]
     },
     "execution_count": 5,
     "metadata": {},
     "output_type": "execute_result"
    }
   ],
   "source": [
    "#Step 6: See how many null answers are in each column.\n",
    "data_file.isnull().sum()"
   ]
  },
  {
   "cell_type": "code",
   "execution_count": 6,
   "metadata": {},
   "outputs": [
    {
     "data": {
      "text/plain": [
       "<bound method DataFrame.dropna of       PUF_ID  sample  fpl  SWB_1  SWB_2  SWB_3  FWBscore  FWB1_1  FWB1_2  \\\n",
       "0      10350       2    3      5      5      6        55       3       3   \n",
       "1       7740       1    3      6      6      6        51       2       2   \n",
       "2      13699       1    3      4      3      4        49       3       3   \n",
       "3       7267       1    3      6      6      6        49       3       3   \n",
       "4       7375       1    3      4      4      4        49       3       3   \n",
       "...      ...     ...  ...    ...    ...    ...       ...     ...     ...   \n",
       "6389   11220       3    3      6      7      7        61       3       3   \n",
       "6390   13118       3    2      7      7      7        59       3       4   \n",
       "6391    8709       1    3      5      6      6        59       3       4   \n",
       "6392    8515       1    3      5      5      5        46       2       2   \n",
       "6393    8516       3    2      4      6      4        49       3       3   \n",
       "\n",
       "      FWB1_3  ...  PPMSACAT  PPREG4  PPREG9  PPT01  PPT25  PPT612  PPT1317  \\\n",
       "0          3  ...         1       4       8      0      0       0        0   \n",
       "1          3  ...         1       2       3      0      0       0        0   \n",
       "2          3  ...         1       4       9      0      0       0        1   \n",
       "3          3  ...         1       3       7      0      0       0        0   \n",
       "4          3  ...         1       2       4      0      0       1        0   \n",
       "...      ...  ...       ...     ...     ...    ...    ...     ...      ...   \n",
       "6389       1  ...         1       2       3      0      0       0        1   \n",
       "6390       2  ...         1       3       6      0      0       0        0   \n",
       "6391       3  ...         1       1       2      0      0       0        0   \n",
       "6392       3  ...         1       4       9      0      0       0        0   \n",
       "6393       3  ...         0       3       5      0      0       1        0   \n",
       "\n",
       "      PPT18OV  PCTLT200FPL   finalwt  \n",
       "0           1            0  0.367292  \n",
       "1           2            0  1.327561  \n",
       "2           2            1  0.835156  \n",
       "3           1            0  1.410871  \n",
       "4           4            1  4.260668  \n",
       "...       ...          ...       ...  \n",
       "6389        2           -5  0.522504  \n",
       "6390        3           -5  1.015219  \n",
       "6391        2            0  1.136270  \n",
       "6392        2            0  1.224941  \n",
       "6393        2           -5  0.626489  \n",
       "\n",
       "[6394 rows x 217 columns]>"
      ]
     },
     "execution_count": 6,
     "metadata": {},
     "output_type": "execute_result"
    }
   ],
   "source": [
    "#Step 7: Drop all null values in the dataset.\n",
    "data_file.dropna\n",
    "\n",
    "#Findings: There were no null values in the dataset. The reason why this is the case is because whenever\n",
    "#the participant in the survey didn't respond to a question, -4 was entered into that space. "
   ]
  },
  {
   "cell_type": "code",
   "execution_count": 7,
   "metadata": {},
   "outputs": [
    {
     "data": {
      "text/plain": [
       "PUF_ID         6394\n",
       "sample         6394\n",
       "fpl            6394\n",
       "SWB_1          6394\n",
       "SWB_2          6394\n",
       "               ... \n",
       "PPT612         6394\n",
       "PPT1317        6394\n",
       "PPT18OV        6394\n",
       "PCTLT200FPL    6394\n",
       "finalwt        6394\n",
       "Length: 217, dtype: int64"
      ]
     },
     "execution_count": 7,
     "metadata": {},
     "output_type": "execute_result"
    }
   ],
   "source": [
    "#Step 8: Complete a count to see if any rows were dropped. \n",
    "data_file.count()\n",
    "\n",
    "#Findings: No rows were dropped. "
   ]
  },
  {
   "cell_type": "code",
   "execution_count": 8,
   "metadata": {},
   "outputs": [
    {
     "data": {
      "text/plain": [
       "PUF_ID         6393\n",
       "sample         6393\n",
       "fpl            6393\n",
       "SWB_1          6393\n",
       "SWB_2          6393\n",
       "               ... \n",
       "PPT612         6393\n",
       "PPT1317        6393\n",
       "PPT18OV        6393\n",
       "PCTLT200FPL    6393\n",
       "finalwt        6393\n",
       "Length: 217, dtype: int64"
      ]
     },
     "execution_count": 8,
     "metadata": {},
     "output_type": "execute_result"
    }
   ],
   "source": [
    "#Step 9: Drop all values that are equal to -4.\n",
    "data_after_drop_df = data_file[data_file != -4].dropna()\n",
    "\n",
    "#Do another count to see how many \"null\" answers were in the dataset.\n",
    "data_after_drop_df.count()\n",
    "\n",
    "#Findings: There was only one row that had any responses that were -4. Our team looked into\n",
    "#this further and there was only one person who did not answer all of the survey questions."
   ]
  },
  {
   "cell_type": "code",
   "execution_count": 9,
   "metadata": {},
   "outputs": [
    {
     "data": {
      "text/html": [
       "<div>\n",
       "<style scoped>\n",
       "    .dataframe tbody tr th:only-of-type {\n",
       "        vertical-align: middle;\n",
       "    }\n",
       "\n",
       "    .dataframe tbody tr th {\n",
       "        vertical-align: top;\n",
       "    }\n",
       "\n",
       "    .dataframe thead th {\n",
       "        text-align: right;\n",
       "    }\n",
       "</style>\n",
       "<table border=\"1\" class=\"dataframe\">\n",
       "  <thead>\n",
       "    <tr style=\"text-align: right;\">\n",
       "      <th></th>\n",
       "      <th>PUF_ID</th>\n",
       "      <th>sample</th>\n",
       "      <th>fpl</th>\n",
       "      <th>SWB_1</th>\n",
       "      <th>SWB_2</th>\n",
       "      <th>SWB_3</th>\n",
       "      <th>FWBscore</th>\n",
       "      <th>FWB1_1</th>\n",
       "      <th>FWB1_2</th>\n",
       "      <th>FWB1_3</th>\n",
       "      <th>...</th>\n",
       "      <th>PPMSACAT</th>\n",
       "      <th>PPREG4</th>\n",
       "      <th>PPREG9</th>\n",
       "      <th>PPT01</th>\n",
       "      <th>PPT25</th>\n",
       "      <th>PPT612</th>\n",
       "      <th>PPT1317</th>\n",
       "      <th>PPT18OV</th>\n",
       "      <th>PCTLT200FPL</th>\n",
       "      <th>finalwt</th>\n",
       "    </tr>\n",
       "  </thead>\n",
       "  <tbody>\n",
       "    <tr>\n",
       "      <th>0</th>\n",
       "      <td>10350</td>\n",
       "      <td>2</td>\n",
       "      <td>3</td>\n",
       "      <td>5.0</td>\n",
       "      <td>5.0</td>\n",
       "      <td>6.0</td>\n",
       "      <td>55.0</td>\n",
       "      <td>3.0</td>\n",
       "      <td>3.0</td>\n",
       "      <td>3.0</td>\n",
       "      <td>...</td>\n",
       "      <td>1</td>\n",
       "      <td>4</td>\n",
       "      <td>8</td>\n",
       "      <td>0</td>\n",
       "      <td>0</td>\n",
       "      <td>0</td>\n",
       "      <td>0</td>\n",
       "      <td>1</td>\n",
       "      <td>0</td>\n",
       "      <td>0.367292</td>\n",
       "    </tr>\n",
       "    <tr>\n",
       "      <th>1</th>\n",
       "      <td>7740</td>\n",
       "      <td>1</td>\n",
       "      <td>3</td>\n",
       "      <td>6.0</td>\n",
       "      <td>6.0</td>\n",
       "      <td>6.0</td>\n",
       "      <td>51.0</td>\n",
       "      <td>2.0</td>\n",
       "      <td>2.0</td>\n",
       "      <td>3.0</td>\n",
       "      <td>...</td>\n",
       "      <td>1</td>\n",
       "      <td>2</td>\n",
       "      <td>3</td>\n",
       "      <td>0</td>\n",
       "      <td>0</td>\n",
       "      <td>0</td>\n",
       "      <td>0</td>\n",
       "      <td>2</td>\n",
       "      <td>0</td>\n",
       "      <td>1.327561</td>\n",
       "    </tr>\n",
       "    <tr>\n",
       "      <th>2</th>\n",
       "      <td>13699</td>\n",
       "      <td>1</td>\n",
       "      <td>3</td>\n",
       "      <td>4.0</td>\n",
       "      <td>3.0</td>\n",
       "      <td>4.0</td>\n",
       "      <td>49.0</td>\n",
       "      <td>3.0</td>\n",
       "      <td>3.0</td>\n",
       "      <td>3.0</td>\n",
       "      <td>...</td>\n",
       "      <td>1</td>\n",
       "      <td>4</td>\n",
       "      <td>9</td>\n",
       "      <td>0</td>\n",
       "      <td>0</td>\n",
       "      <td>0</td>\n",
       "      <td>1</td>\n",
       "      <td>2</td>\n",
       "      <td>1</td>\n",
       "      <td>0.835156</td>\n",
       "    </tr>\n",
       "    <tr>\n",
       "      <th>3</th>\n",
       "      <td>7267</td>\n",
       "      <td>1</td>\n",
       "      <td>3</td>\n",
       "      <td>6.0</td>\n",
       "      <td>6.0</td>\n",
       "      <td>6.0</td>\n",
       "      <td>49.0</td>\n",
       "      <td>3.0</td>\n",
       "      <td>3.0</td>\n",
       "      <td>3.0</td>\n",
       "      <td>...</td>\n",
       "      <td>1</td>\n",
       "      <td>3</td>\n",
       "      <td>7</td>\n",
       "      <td>0</td>\n",
       "      <td>0</td>\n",
       "      <td>0</td>\n",
       "      <td>0</td>\n",
       "      <td>1</td>\n",
       "      <td>0</td>\n",
       "      <td>1.410871</td>\n",
       "    </tr>\n",
       "    <tr>\n",
       "      <th>4</th>\n",
       "      <td>7375</td>\n",
       "      <td>1</td>\n",
       "      <td>3</td>\n",
       "      <td>4.0</td>\n",
       "      <td>4.0</td>\n",
       "      <td>4.0</td>\n",
       "      <td>49.0</td>\n",
       "      <td>3.0</td>\n",
       "      <td>3.0</td>\n",
       "      <td>3.0</td>\n",
       "      <td>...</td>\n",
       "      <td>1</td>\n",
       "      <td>2</td>\n",
       "      <td>4</td>\n",
       "      <td>0</td>\n",
       "      <td>0</td>\n",
       "      <td>1</td>\n",
       "      <td>0</td>\n",
       "      <td>4</td>\n",
       "      <td>1</td>\n",
       "      <td>4.260668</td>\n",
       "    </tr>\n",
       "  </tbody>\n",
       "</table>\n",
       "<p>5 rows × 217 columns</p>\n",
       "</div>"
      ],
      "text/plain": [
       "   PUF_ID  sample  fpl  SWB_1  SWB_2  SWB_3  FWBscore  FWB1_1  FWB1_2  FWB1_3  \\\n",
       "0   10350       2    3    5.0    5.0    6.0      55.0     3.0     3.0     3.0   \n",
       "1    7740       1    3    6.0    6.0    6.0      51.0     2.0     2.0     3.0   \n",
       "2   13699       1    3    4.0    3.0    4.0      49.0     3.0     3.0     3.0   \n",
       "3    7267       1    3    6.0    6.0    6.0      49.0     3.0     3.0     3.0   \n",
       "4    7375       1    3    4.0    4.0    4.0      49.0     3.0     3.0     3.0   \n",
       "\n",
       "   ...  PPMSACAT  PPREG4  PPREG9  PPT01  PPT25  PPT612  PPT1317  PPT18OV  \\\n",
       "0  ...         1       4       8      0      0       0        0        1   \n",
       "1  ...         1       2       3      0      0       0        0        2   \n",
       "2  ...         1       4       9      0      0       0        1        2   \n",
       "3  ...         1       3       7      0      0       0        0        1   \n",
       "4  ...         1       2       4      0      0       1        0        4   \n",
       "\n",
       "   PCTLT200FPL   finalwt  \n",
       "0            0  0.367292  \n",
       "1            0  1.327561  \n",
       "2            1  0.835156  \n",
       "3            0  1.410871  \n",
       "4            1  4.260668  \n",
       "\n",
       "[5 rows x 217 columns]"
      ]
     },
     "execution_count": 9,
     "metadata": {},
     "output_type": "execute_result"
    }
   ],
   "source": [
    "#Step 10: check for duplicates.\n",
    "duplicated_rows = data_after_drop_df.duplicated()\n",
    "data_after_drop_df.loc[data_after_drop_df.duplicated()]\n",
    "\n",
    "data_after_duplicates_df = data_after_drop_df.drop_duplicates()\n",
    "\n",
    "data_after_duplicates_df.count()\n",
    "\n",
    "cleaned_data = data_after_duplicates_df\n",
    "cleaned_data.head()\n"
   ]
  },
  {
   "cell_type": "code",
   "execution_count": 10,
   "metadata": {},
   "outputs": [],
   "source": [
    "#Step 11: Check for outliers. This will be completed on a per question basis. "
   ]
  },
  {
   "cell_type": "code",
   "execution_count": 11,
   "metadata": {},
   "outputs": [
    {
     "data": {
      "text/plain": [
       "\"Reminder our overarching question: How do these specific financial factors effect \\nthe people's financial well-being?\""
      ]
     },
     "execution_count": 11,
     "metadata": {},
     "output_type": "execute_result"
    }
   ],
   "source": [
    "\"\"\"Reminder our overarching question: How do these specific financial factors effect \n",
    "the people's financial well-being?\"\"\""
   ]
  },
  {
   "cell_type": "code",
   "execution_count": 12,
   "metadata": {},
   "outputs": [],
   "source": [
    "#Step 12: Question 1 Work:Group\n"
   ]
  },
  {
   "cell_type": "code",
   "execution_count": 27,
   "metadata": {},
   "outputs": [
    {
     "name": "stdout",
     "output_type": "stream",
     "text": [
      "1\n",
      "-1\n",
      "5\n",
      "-1\n",
      "95.0\n",
      "-1.0\n",
      "Repayment of Student Debt            6347\n",
      "Ability to Pay Your Bills on Time    6347\n",
      "Financial Well-Being Score           6347\n",
      "dtype: int64\n"
     ]
    },
    {
     "data": {
      "text/plain": [
       "(array([  12.,    0.,    0.,  137.,    0.,  148.,  491.,    0.,  940.,\n",
       "        4665.]),\n",
       " array([-1. , -0.4,  0.2,  0.8,  1.4,  2. ,  2.6,  3.2,  3.8,  4.4,  5. ]),\n",
       " <BarContainer object of 10 artists>)"
      ]
     },
     "execution_count": 27,
     "metadata": {},
     "output_type": "execute_result"
    },
    {
     "data": {
      "image/png": "[encoded data removed]",
      "text/plain": [
       "<Figure size 640x480 with 1 Axes>"
      ]
     },
     "metadata": {},
     "output_type": "display_data"
    }
   ],
   "source": [
    "#Step 13: Question 2 Work: Kerek\n",
    "#Question: Do students with high debt have trouble paying bills on time? \n",
    "\n",
    "#Look at BENEFITS_4 Tuition Reimbursement and/or Student Debt Repayment \n",
    "#Look at MANAGE1_1 Paid all your bills on time Survey item (modified) \n",
    "\n",
    "#Create a new dataframe with only those variables as columns.\n",
    "student_data = cleaned_data[['BENEFITS_4','MANAGE1_1', 'FWBscore']]\n",
    "\n",
    "student_df = pd.DataFrame(student_data)\n",
    "\n",
    "#Rename the columns.\n",
    "renamed_data = student_df.rename(columns={\"BENEFITS_4\" : \"Repayment of Student Debt\", \"MANAGE1_1\" : \"Ability to Pay Your Bills on Time\", \"FWBscore\" : \"Financial Well-Being Score\"})\n",
    "renamed_data.head()\n",
    "\n",
    "#Find the max answer for Repayment of Student Debt\n",
    "max_debt_repayment = renamed_data['Repayment of Student Debt'].max()\n",
    "print(max_debt_repayment)\n",
    "\n",
    "#Find the min answer for Repayment of Student Debt\n",
    "min_debt_repayment = renamed_data['Repayment of Student Debt'].min()\n",
    "print(min_debt_repayment)\n",
    "\n",
    "#Repayment of Student Debt meaning: -1: refused, 0: No, 1: Yes\n",
    "\n",
    "#Find the max answer for Ability to Pay Your Bills on Time\n",
    "max_ability_to_pay = renamed_data['Ability to Pay Your Bills on Time'].max()\n",
    "print(max_ability_to_pay)\n",
    "\n",
    "#Find the min answer for Ability to Pay Your Bills on Time\n",
    "min_ability_to_pay = renamed_data['Ability to Pay Your Bills on Time'].min()\n",
    "print(min_ability_to_pay)\n",
    "\n",
    "#Ability to pay meaning: -1: refused, 1: Never, \n",
    "#2 : Seldom, 3: Sometimes, 4: Often, 5: Always.\n",
    "\n",
    "#Financial Well-Being Score: the lower the number the worse the financial well-being is. \n",
    "#Find the max answer for Ability to Pay Your Bills on Time\n",
    "max_FWBscore = renamed_data['Financial Well-Being Score'].max()\n",
    "print(max_FWBscore)\n",
    "\n",
    "#Find the min answer for Ability to Pay Your Bills on Time\n",
    "min_FWBscore = renamed_data['Financial Well-Being Score'].min()\n",
    "print(min_FWBscore)\n",
    "\n",
    "\n",
    "\"\"\"Now that I know what the data means, I am going to take out the -1 values for each of the columns since that value is associated\n",
    "with refusing to answer the question. \n",
    "\"\"\"\n",
    "\n",
    "drop_minus_one = renamed_data[renamed_data != -1].dropna()\n",
    "print(drop_minus_one.count())\n",
    "\n",
    "\"\"\"Put the data in a histogram of the ability to pay bills column.\"\"\"\n",
    "\n",
    "#Create the histogram.\n",
    "plt.hist(renamed_data['Ability to Pay Your Bills on Time'])\n",
    "\n",
    "#Findings: The vast majority of people can pay their bills. "
   ]
  },
  {
   "cell_type": "code",
   "execution_count": 25,
   "metadata": {},
   "outputs": [
    {
     "data": {
      "text/plain": [
       "(array([  43.,    0.,    0.,    0.,    0., 5315.,    0.,    0.,    0.,\n",
       "        1035.]),\n",
       " array([-1. , -0.8, -0.6, -0.4, -0.2,  0. ,  0.2,  0.4,  0.6,  0.8,  1. ]),\n",
       " <BarContainer object of 10 artists>)"
      ]
     },
     "execution_count": 25,
     "metadata": {},
     "output_type": "execute_result"
    },
    {
     "data": {
      "image/png": "[encoded data removed]",
      "text/plain": [
       "<Figure size 640x480 with 1 Axes>"
      ]
     },
     "metadata": {},
     "output_type": "display_data"
    }
   ],
   "source": [
    "#Create the histogram.\n",
    "plt.hist(renamed_data['Repayment of Student Debt'])\n",
    "\n",
    "#The vast majority of people aren't paying their student debt off. This likely is because the people who took the survey\n",
    "#don't have student debt. "
   ]
  },
  {
   "cell_type": "code",
   "execution_count": 28,
   "metadata": {},
   "outputs": [
    {
     "data": {
      "text/plain": [
       "(array([   4.,   37.,  136.,  420.,  811., 1866., 1758.,  830.,  366.,\n",
       "         165.]),\n",
       " array([-1. ,  8.6, 18.2, 27.8, 37.4, 47. , 56.6, 66.2, 75.8, 85.4, 95. ]),\n",
       " <BarContainer object of 10 artists>)"
      ]
     },
     "execution_count": 28,
     "metadata": {},
     "output_type": "execute_result"
    },
    {
     "data": {
      "image/png": "[encoded data removed]",
      "text/plain": [
       "<Figure size 640x480 with 1 Axes>"
      ]
     },
     "metadata": {},
     "output_type": "display_data"
    }
   ],
   "source": [
    "#Create a histogram for the Financial Well-Being Score\n",
    "plt.hist(renamed_data['Financial Well-Being Score'])\n",
    "\n",
    "#Findings: The financial well-being score has a curve that is slightly skewed to the right. This means that on average people \n",
    "#have a higher financial well-being score."
   ]
  },
  {
   "cell_type": "code",
   "execution_count": 38,
   "metadata": {},
   "outputs": [
    {
     "data": {
      "text/plain": [
       "<matplotlib.collections.PathCollection at 0x2414be414e0>"
      ]
     },
     "execution_count": 38,
     "metadata": {},
     "output_type": "execute_result"
    },
    {
     "data": {
      "image/png": "[encoded data removed]",
      "text/plain": [
       "<Figure size 640x480 with 1 Axes>"
      ]
     },
     "metadata": {},
     "output_type": "display_data"
    }
   ],
   "source": [
    "#Create a scatter plot comparing the financial well-being score and the ability to pay bills on time variable.\n",
    "plt.scatter(renamed_data['Ability to Pay Your Bills on Time'], renamed_data['Financial Well-Being Score'], marker=\"o\", facecolors=\"red\", edgecolors=\"black\",\n",
    "            s=renamed_data['Ability to Pay Your Bills on Time'], alpha=0.05)"
   ]
  },
  {
   "cell_type": "code",
   "execution_count": 48,
   "metadata": {},
   "outputs": [
    {
     "data": {
      "text/plain": [
       "(array([  50.,    0.,    0.,    0.,  173.,    0., 1388.,    0., 3737.,\n",
       "        1045.]),\n",
       " array([-1. , -0.5,  0. ,  0.5,  1. ,  1.5,  2. ,  2.5,  3. ,  3.5,  4. ]),\n",
       " <BarContainer object of 10 artists>)"
      ]
     },
     "execution_count": 48,
     "metadata": {},
     "output_type": "execute_result"
    },
    {
     "data": {
      "image/png": "[encoded data removed]",
      "text/plain": [
       "<Figure size 640x480 with 1 Axes>"
      ]
     },
     "metadata": {},
     "output_type": "display_data"
    }
   ],
   "source": [
    "#Step 14: Question 3 Work: Kerek \n",
    "self_control_df = cleaned_data[['FWBscore', 'SELFCONTROL_2', 'FRUGALITY']]\n",
    "\n",
    "\n",
    "#Rename columns\n",
    "Q3_renamed_df = self_control_df.rename(columns={'SELFCONTROL_2' : 'Self Control', 'FRUGALITY': 'Frugality', 'FWBscore' : 'Financial Well-Being Score' })\n",
    "\n",
    "#Create a histogram of the Self Control and Frugality columns. \n",
    "#This variable is from 1 through 4. The question is \"I am good at resisting temptation. \n",
    "#Here is what they mean: 1 = Not at all, 2 = Not very well, 3 = Very well,4 = Completely well\n",
    "\n",
    "plt.hist(Q3_renamed_df['Self Control'])\n",
    "\n",
    "#Findings: There is a right skew to the histogram. This means that most people say they resist temptation\n",
    "#very well and completely. "
   ]
  },
  {
   "cell_type": "code",
   "execution_count": 49,
   "metadata": {},
   "outputs": [
    {
     "data": {
      "text/plain": [
       "(array([  15.,    0.,   22.,    0.,   50.,  195.,    0.,  805., 2460.,\n",
       "        2846.]),\n",
       " array([-1. , -0.3,  0.4,  1.1,  1.8,  2.5,  3.2,  3.9,  4.6,  5.3,  6. ]),\n",
       " <BarContainer object of 10 artists>)"
      ]
     },
     "execution_count": 49,
     "metadata": {},
     "output_type": "execute_result"
    },
    {
     "data": {
      "image/png": "[encoded data removed]",
      "text/plain": [
       "<Figure size 640x480 with 1 Axes>"
      ]
     },
     "metadata": {},
     "output_type": "display_data"
    }
   ],
   "source": [
    "#Create a histogram for the Frugality variable. \n",
    "#The Frugality question is I can reuse an item I already have, there is no sense in buying somehting new. \n",
    "#The variable range is 1 through 6: 1 = Strongly Disagree, 2 = Disagree, 3 = Disagree slightly, 4 = Agree slightly\n",
    "# 5 = Agree, 6 = Strongly Agree.\n",
    "\n",
    "plt.hist(Q3_renamed_df['Frugality'])\n",
    "\n",
    "#Findings: Large right skew meaning that most people slightly agree to strongly agree and item \n",
    "#can be used more than once\n"
   ]
  },
  {
   "cell_type": "code",
   "execution_count": 50,
   "metadata": {},
   "outputs": [
    {
     "name": "stderr",
     "output_type": "stream",
     "text": [
      "c:\\Users\\kerek\\anaconda3\\envs\\dev\\lib\\site-packages\\matplotlib\\collections.py:996: RuntimeWarning: invalid value encountered in sqrt\n",
      "  scale = np.sqrt(self._sizes) * dpi / 72.0 * self._factor\n"
     ]
    },
    {
     "data": {
      "text/plain": [
       "<matplotlib.collections.PathCollection at 0x2415116ae90>"
      ]
     },
     "execution_count": 50,
     "metadata": {},
     "output_type": "execute_result"
    },
    {
     "data": {
      "image/png": "[encoded data removed]",
      "text/plain": [
       "<Figure size 640x480 with 1 Axes>"
      ]
     },
     "metadata": {},
     "output_type": "display_data"
    }
   ],
   "source": [
    "#Create a scatter plot for frugality compared to the financial well-being score. \n",
    "plt.scatter(Q3_renamed_df['Frugality'], Q3_renamed_df['Financial Well-Being Score'], marker=\"o\", facecolors=\"red\", edgecolors=\"black\",\n",
    "            s=Q3_renamed_df['Frugality'], alpha=0.05)"
   ]
  },
  {
   "cell_type": "code",
   "execution_count": 51,
   "metadata": {},
   "outputs": [
    {
     "data": {
      "text/plain": [
       "<matplotlib.collections.PathCollection at 0x241512eb700>"
      ]
     },
     "execution_count": 51,
     "metadata": {},
     "output_type": "execute_result"
    },
    {
     "data": {
      "image/png": "[encoded data removed]",
      "text/plain": [
       "<Figure size 640x480 with 1 Axes>"
      ]
     },
     "metadata": {},
     "output_type": "display_data"
    }
   ],
   "source": [
    "#Create a scatter plot for frugality compared to the financial well-being score. \n",
    "plt.scatter(Q3_renamed_df['Self Control'], Q3_renamed_df['Financial Well-Being Score'], marker=\"o\", facecolors=\"red\", edgecolors=\"black\",\n",
    "            s=Q3_renamed_df['Self Control'], alpha=0.05)"
   ]
  },
  {
   "cell_type": "code",
   "execution_count": null,
   "metadata": {},
   "outputs": [],
   "source": [
    "#Step 15: Question 4 Work: Raisha"
   ]
  },
  {
   "cell_type": "code",
   "execution_count": null,
   "metadata": {},
   "outputs": [],
   "source": [
    "#Step 16: Question 5 Work: Raisha"
   ]
  },
  {
   "cell_type": "code",
   "execution_count": null,
   "metadata": {},
   "outputs": [],
   "source": [
    "#Step 17: Question 6 Work: Elia"
   ]
  },
  {
   "cell_type": "code",
   "execution_count": null,
   "metadata": {},
   "outputs": [],
   "source": [
    "#Step 18: Question 7 Work: Elia"
   ]
  },
  {
   "cell_type": "code",
   "execution_count": null,
   "metadata": {},
   "outputs": [],
   "source": [
    "#Step 19: Question 8 Work: To be Determined."
   ]
  }
 ],
 "metadata": {
  "kernelspec": {
   "display_name": "dev",
   "language": "python",
   "name": "python3"
  },
  "language_info": {
   "codemirror_mode": {
    "name": "ipython",
    "version": 3
   },
   "file_extension": ".py",
   "mimetype": "text/x-python",
   "name": "python",
   "nbconvert_exporter": "python",
   "pygments_lexer": "ipython3",
   "version": "3.10.13"
  }
 },
 "nbformat": 4,
 "nbformat_minor": 2
}
