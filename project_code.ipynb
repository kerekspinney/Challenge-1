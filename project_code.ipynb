{
 "cells": [
  {
   "cell_type": "code",
   "execution_count": null,
   "metadata": {},
   "outputs": [],
   "source": [
    "#Project_1 Team 3\n",
    "\n",
    "#Step 1 import necessary components\n",
    "import pandas as pd\n",
    "\n",
    "#Step 2 importing the data. \n",
    "data_file = pd.read_csv('Project-1/Resources/NFWBS_PUF_2016_data.csv')\n",
    "data_file.head()\n"
   ]
  }
 ],
 "metadata": {
  "language_info": {
   "name": "python"
  }
 },
 "nbformat": 4,
 "nbformat_minor": 2
}
